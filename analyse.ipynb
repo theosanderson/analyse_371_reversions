{
 "cells": [
  {
   "cell_type": "code",
   "execution_count": 2,
   "metadata": {},
   "outputs": [],
   "source": [
    "import pandas as pd\n",
    "file = \"covspectrum.csv\"\n",
    "df = pd.read_csv(file)\n",
    "\n",
    "file2 = \"biosamples.txt\"\n",
    "cols = [\"genbankAccession\", \"biosample\"]\n",
    "df2 = pd.read_csv(file2, sep=\"\\t\", names=cols)\n",
    "\n",
    "df = df.merge(df2, on=\"genbankAccession\")"
   ]
  },
  {
   "cell_type": "code",
   "execution_count": 3,
   "metadata": {},
   "outputs": [],
   "source": [
    "# filter to those with biosample\n",
    "df = df[df.biosample.notnull()]\n"
   ]
  },
  {
   "cell_type": "code",
   "execution_count": 4,
   "metadata": {},
   "outputs": [],
   "source": [
    "# pick 500 random biosamples\n",
    "sampled = df.sample(100)\n",
    "biosamples = sampled.biosample.values"
   ]
  },
  {
   "cell_type": "code",
   "execution_count": 5,
   "metadata": {},
   "outputs": [
    {
     "name": "stderr",
     "output_type": "stream",
     "text": [
      "  0%|          | 0/100 [00:00<?, ?it/s]"
     ]
    },
    {
     "name": "stdout",
     "output_type": "stream",
     "text": [
      "SAMEA14372866\n"
     ]
    },
    {
     "name": "stderr",
     "output_type": "stream",
     "text": [
      "  1%|          | 1/100 [00:09<14:57,  9.07s/it]"
     ]
    },
    {
     "name": "stdout",
     "output_type": "stream",
     "text": [
      "SAMEA13602972\n"
     ]
    },
    {
     "name": "stderr",
     "output_type": "stream",
     "text": [
      "  2%|▏         | 2/100 [00:21<17:43, 10.86s/it]"
     ]
    },
    {
     "name": "stdout",
     "output_type": "stream",
     "text": [
      "SAMN25813889\n"
     ]
    },
    {
     "name": "stderr",
     "output_type": "stream",
     "text": [
      "  3%|▎         | 3/100 [00:47<29:00, 17.94s/it]"
     ]
    },
    {
     "name": "stdout",
     "output_type": "stream",
     "text": [
      "SAMN25264181\n"
     ]
    },
    {
     "name": "stderr",
     "output_type": "stream",
     "text": [
      "  3%|▎         | 3/100 [00:48<25:53, 16.01s/it]\n"
     ]
    },
    {
     "ename": "CalledProcessError",
     "evalue": "Command '['./enaFastqFetch.py', '-s', 'SAMN25264181', '-d', 'sample']' returned non-zero exit status 1.",
     "output_type": "error",
     "traceback": [
      "\u001b[0;31m---------------------------------------------------------------------------\u001b[0m",
      "\u001b[0;31mCalledProcessError\u001b[0m                        Traceback (most recent call last)",
      "\u001b[0;32m<ipython-input-5-e06f3a170d6b>\u001b[0m in \u001b[0;36m<module>\u001b[0;34m\u001b[0m\n\u001b[1;32m     10\u001b[0m     \u001b[0mprint\u001b[0m\u001b[0;34m(\u001b[0m\u001b[0mbiosample\u001b[0m\u001b[0;34m)\u001b[0m\u001b[0;34m\u001b[0m\u001b[0;34m\u001b[0m\u001b[0m\n\u001b[1;32m     11\u001b[0m     \u001b[0;31m# use subprocess like:  ffq SRR18665696 --ftp to get JSON urls\u001b[0m\u001b[0;34m\u001b[0m\u001b[0;34m\u001b[0m\u001b[0;34m\u001b[0m\u001b[0m\n\u001b[0;32m---> 12\u001b[0;31m     \u001b[0msubprocess\u001b[0m\u001b[0;34m.\u001b[0m\u001b[0mcheck_output\u001b[0m\u001b[0;34m(\u001b[0m\u001b[0;34m[\u001b[0m\u001b[0;34m\"./enaFastqFetch.py\"\u001b[0m\u001b[0;34m,\u001b[0m\u001b[0;34m\"-s\"\u001b[0m\u001b[0;34m,\u001b[0m \u001b[0mbiosample\u001b[0m\u001b[0;34m,\u001b[0m \u001b[0;34m\"-d\"\u001b[0m\u001b[0;34m,\u001b[0m\u001b[0;34m\"sample\"\u001b[0m\u001b[0;34m]\u001b[0m\u001b[0;34m)\u001b[0m\u001b[0;34m\u001b[0m\u001b[0;34m\u001b[0m\u001b[0m\n\u001b[0m\u001b[1;32m     13\u001b[0m \u001b[0;34m\u001b[0m\u001b[0m\n\u001b[1;32m     14\u001b[0m \u001b[0mos\u001b[0m\u001b[0;34m.\u001b[0m\u001b[0msystem\u001b[0m\u001b[0;34m(\u001b[0m\u001b[0;34m\"mv *.fastq.gz fastq\"\u001b[0m\u001b[0;34m)\u001b[0m\u001b[0;34m\u001b[0m\u001b[0;34m\u001b[0m\u001b[0m\n",
      "\u001b[0;32m~/miniconda3/envs/nextstrain/lib/python3.8/subprocess.py\u001b[0m in \u001b[0;36mcheck_output\u001b[0;34m(timeout, *popenargs, **kwargs)\u001b[0m\n\u001b[1;32m    409\u001b[0m         \u001b[0mkwargs\u001b[0m\u001b[0;34m[\u001b[0m\u001b[0;34m'input'\u001b[0m\u001b[0;34m]\u001b[0m \u001b[0;34m=\u001b[0m \u001b[0;34m''\u001b[0m \u001b[0;32mif\u001b[0m \u001b[0mkwargs\u001b[0m\u001b[0;34m.\u001b[0m\u001b[0mget\u001b[0m\u001b[0;34m(\u001b[0m\u001b[0;34m'universal_newlines'\u001b[0m\u001b[0;34m,\u001b[0m \u001b[0;32mFalse\u001b[0m\u001b[0;34m)\u001b[0m \u001b[0;32melse\u001b[0m \u001b[0;34mb''\u001b[0m\u001b[0;34m\u001b[0m\u001b[0;34m\u001b[0m\u001b[0m\n\u001b[1;32m    410\u001b[0m \u001b[0;34m\u001b[0m\u001b[0m\n\u001b[0;32m--> 411\u001b[0;31m     return run(*popenargs, stdout=PIPE, timeout=timeout, check=True,\n\u001b[0m\u001b[1;32m    412\u001b[0m                **kwargs).stdout\n\u001b[1;32m    413\u001b[0m \u001b[0;34m\u001b[0m\u001b[0m\n",
      "\u001b[0;32m~/miniconda3/envs/nextstrain/lib/python3.8/subprocess.py\u001b[0m in \u001b[0;36mrun\u001b[0;34m(input, capture_output, timeout, check, *popenargs, **kwargs)\u001b[0m\n\u001b[1;32m    510\u001b[0m         \u001b[0mretcode\u001b[0m \u001b[0;34m=\u001b[0m \u001b[0mprocess\u001b[0m\u001b[0;34m.\u001b[0m\u001b[0mpoll\u001b[0m\u001b[0;34m(\u001b[0m\u001b[0;34m)\u001b[0m\u001b[0;34m\u001b[0m\u001b[0;34m\u001b[0m\u001b[0m\n\u001b[1;32m    511\u001b[0m         \u001b[0;32mif\u001b[0m \u001b[0mcheck\u001b[0m \u001b[0;32mand\u001b[0m \u001b[0mretcode\u001b[0m\u001b[0;34m:\u001b[0m\u001b[0;34m\u001b[0m\u001b[0;34m\u001b[0m\u001b[0m\n\u001b[0;32m--> 512\u001b[0;31m             raise CalledProcessError(retcode, process.args,\n\u001b[0m\u001b[1;32m    513\u001b[0m                                      output=stdout, stderr=stderr)\n\u001b[1;32m    514\u001b[0m     \u001b[0;32mreturn\u001b[0m \u001b[0mCompletedProcess\u001b[0m\u001b[0;34m(\u001b[0m\u001b[0mprocess\u001b[0m\u001b[0;34m.\u001b[0m\u001b[0margs\u001b[0m\u001b[0;34m,\u001b[0m \u001b[0mretcode\u001b[0m\u001b[0;34m,\u001b[0m \u001b[0mstdout\u001b[0m\u001b[0;34m,\u001b[0m \u001b[0mstderr\u001b[0m\u001b[0;34m)\u001b[0m\u001b[0;34m\u001b[0m\u001b[0;34m\u001b[0m\u001b[0m\n",
      "\u001b[0;31mCalledProcessError\u001b[0m: Command '['./enaFastqFetch.py', '-s', 'SAMN25264181', '-d', 'sample']' returned non-zero exit status 1."
     ]
    }
   ],
   "source": [
    "import tqdm\n",
    "import subprocess\n",
    "import json\n",
    "import os\n",
    "\n",
    "os.system(\"rm *.fastq.gz\")\n",
    "os.system(\"rm fastq/*.fastq.gz\")\n",
    "\n",
    "for biosample in tqdm.tqdm(biosamples):\n",
    "    print(biosample)\n",
    "    # use subprocess like:  ffq SRR18665696 --ftp to get JSON urls\n",
    "    try:\n",
    "        subprocess.check_output([\"./enaFastqFetch.py\",\"-s\", biosample, \"-d\",\"sample\"])\n",
    "    except Exception:\n",
    "        print(\"e\")\n",
    "\n",
    "os.system(\"mv *.fastq.gz fastq\")"
   ]
  },
  {
   "cell_type": "code",
   "execution_count": 47,
   "metadata": {},
   "outputs": [
    {
     "name": "stderr",
     "output_type": "stream",
     "text": [
      "100%|██████████| 42/42 [02:02<00:00,  2.92s/it]\n"
     ]
    }
   ],
   "source": [
    "# get list of all fastq.gz files\n",
    "fastq_files = [x for x in os.listdir(\"fastq\") if x.endswith(\".gz\")]\n",
    "\n",
    "common_adapters = [\"AGATCGGAAGAGCACACGTCTGAACTCCAGTCA\",\n",
    "    \"AGATCGGAAGAGCGTCGTGTAGGGAAAGAGTGT\",\n",
    "    \"CTGTCTCTTATACACATCT\", \"AGATGTGTATAAGAGACAG\"]\n",
    "\n",
    "# trim adapters\n",
    "out_dir = \"trimmed\"\n",
    "for fastq in tqdm.tqdm(fastq_files):\n",
    "    command = f\"cutadapt -a AGATCGGAAGAGCACACGTCTGAACTCCAGTCA -a AGATCGGAAGAGCGTCGTGTAGGGAAAGAGTGT -a AGATGTGTATAAGAGACAG -m 20 -o {out_dir}/{fastq} fastq/{fastq} -j 20\"\n",
    "    subprocess.call(command, shell=True)"
   ]
  },
  {
   "cell_type": "code",
   "execution_count": 48,
   "metadata": {},
   "outputs": [],
   "source": [
    "\n",
    "# arrange into pairs where paired\n",
    "from collections import defaultdict\n",
    "fastq_pairs = defaultdict(list)\n",
    "fastq_singles = []\n",
    "for fastq_file in fastq_files:\n",
    "    # if contains underscore\n",
    "    if \"_\" in fastq_file:\n",
    "        # split on underscore\n",
    "        root, number = fastq_file.split(\"_\")\n",
    "        # add to paired list\n",
    "        fastq_pairs[root].append(fastq_file)\n",
    "    else:\n",
    "        fastq_singles.append(fastq_file)\n"
   ]
  },
  {
   "cell_type": "code",
   "execution_count": 49,
   "metadata": {},
   "outputs": [
    {
     "name": "stdout",
     "output_type": "stream",
     "text": [
      "minimap2 -t 10 -ax sr ref.fa trimmed/ERR3224171_1.fastq.gz trimmed/ERR3224171_2.fastq.gz | samtools view -bS - > bam/ERR3224171.bam\n",
      "minimap2 -t 10 -ax sr ref.fa trimmed/ERR3601708_1.fastq.gz trimmed/ERR3601708_2.fastq.gz | samtools view -bS - > bam/ERR3601708.bam\n",
      "minimap2 -t 10 -ax sr ref.fa trimmed/ERR4324960_1.fastq.gz trimmed/ERR4324960_2.fastq.gz | samtools view -bS - > bam/ERR4324960.bam\n",
      "minimap2 -t 10 -ax sr ref.fa trimmed/ERR4325088_1.fastq.gz trimmed/ERR4325088_2.fastq.gz | samtools view -bS - > bam/ERR4325088.bam\n",
      "minimap2 -t 10 -ax sr ref.fa trimmed/SRR10190436_1.fastq.gz trimmed/SRR10190436_2.fastq.gz | samtools view -bS - > bam/SRR10190436.bam\n",
      "minimap2 -t 10 -ax sr ref.fa trimmed/SRR10726961_1.fastq.gz trimmed/SRR10726961_2.fastq.gz | samtools view -bS - > bam/SRR10726961.bam\n",
      "minimap2 -t 10 -ax sr ref.fa trimmed/SRR10740518_1.fastq.gz trimmed/SRR10740518_2.fastq.gz | samtools view -bS - > bam/SRR10740518.bam\n",
      "minimap2 -t 10 -ax sr ref.fa trimmed/SRR10788409_1.fastq.gz trimmed/SRR10788409_2.fastq.gz | samtools view -bS - > bam/SRR10788409.bam\n",
      "minimap2 -t 10 -ax sr ref.fa trimmed/SRR10789209_1.fastq.gz trimmed/SRR10789209_2.fastq.gz | samtools view -bS - > bam/SRR10789209.bam\n",
      "minimap2 -t 10 -ax sr ref.fa trimmed/SRR10793461_1.fastq.gz trimmed/SRR10793461_2.fastq.gz | samtools view -bS - > bam/SRR10793461.bam\n",
      "minimap2 -t 10 -ax sr ref.fa trimmed/SRR10793571_1.fastq.gz trimmed/SRR10793571_2.fastq.gz | samtools view -bS - > bam/SRR10793571.bam\n",
      "minimap2 -t 10 -ax sr ref.fa trimmed/SRR10795436_1.fastq.gz trimmed/SRR10795436_2.fastq.gz | samtools view -bS - > bam/SRR10795436.bam\n",
      "minimap2 -t 10 -ax sr ref.fa trimmed/SRR10962787_1.fastq.gz trimmed/SRR10962787_2.fastq.gz | samtools view -bS - > bam/SRR10962787.bam\n",
      "minimap2 -t 10 -ax sr ref.fa trimmed/SRR11210910_1.fastq.gz trimmed/SRR11210910_2.fastq.gz | samtools view -bS - > bam/SRR11210910.bam\n",
      "minimap2 -t 10 -ax sr ref.fa trimmed/SRR11230682_1.fastq.gz trimmed/SRR11230682_2.fastq.gz | samtools view -bS - > bam/SRR11230682.bam\n",
      "minimap2 -t 10 -ax sr ref.fa trimmed/SRR9160051_1.fastq.gz trimmed/SRR9160051_2.fastq.gz | samtools view -bS - > bam/SRR9160051.bam\n",
      "minimap2 -t 10 -ax sr ref.fa trimmed/SRR9731045_1.fastq.gz trimmed/SRR9731045_2.fastq.gz | samtools view -bS - > bam/SRR9731045.bam\n"
     ]
    }
   ],
   "source": [
    "import sys\n",
    "import os\n",
    "# map with minimap2, and make bam with bamtools\n",
    "for root, files in fastq_pairs.items():\n",
    "    # trim off adapters\n",
    "\n",
    "    reference = \"ref.fa\"\n",
    "    target = os.path.join(\"bam\", root+\".bam\")\n",
    "    # 10 threads\n",
    "    #pipe to bamtools to make bam\n",
    "    command = f\"minimap2 -t 10 -ax sr {reference} trimmed/{files[0]} trimmed/{files[1]} | samtools view -bS - > {target}\"\n",
    "    print(command)\n",
    "    os.system(command)\n",
    "    \n"
   ]
  },
  {
   "cell_type": "code",
   "execution_count": 51,
   "metadata": {},
   "outputs": [
    {
     "name": "stdout",
     "output_type": "stream",
     "text": [
      "minimap2 -t 10 -ax sr ref.fa trimmed/DRR093148.fastq.gz | samtools view -bS - > bam/DRR093148.fastq.bam\n",
      "minimap2 -t 10 -ax sr ref.fa trimmed/ERR2031146.fastq.gz | samtools view -bS - > bam/ERR2031146.fastq.bam\n",
      "minimap2 -t 10 -ax sr ref.fa trimmed/ERR3793839.fastq.gz | samtools view -bS - > bam/ERR3793839.fastq.bam\n",
      "minimap2 -t 10 -ax sr ref.fa trimmed/SRR10737212.fastq.gz | samtools view -bS - > bam/SRR10737212.fastq.bam\n",
      "minimap2 -t 10 -ax sr ref.fa trimmed/SRR10868344.fastq.gz | samtools view -bS - > bam/SRR10868344.fastq.bam\n",
      "minimap2 -t 10 -ax sr ref.fa trimmed/SRR11302877.fastq.gz | samtools view -bS - > bam/SRR11302877.fastq.bam\n",
      "minimap2 -t 10 -ax sr ref.fa trimmed/SRR11302903.fastq.gz | samtools view -bS - > bam/SRR11302903.fastq.bam\n",
      "minimap2 -t 10 -ax sr ref.fa trimmed/SRR9731045.fastq.gz | samtools view -bS - > bam/SRR9731045.fastq.bam\n"
     ]
    }
   ],
   "source": [
    "# now do single end\n",
    "for fastq_file in fastq_singles:\n",
    "    reference = \"ref.fa\"\n",
    "    target = os.path.join(\"bam\", fastq_file.replace(\".gz\", \".bam\"))\n",
    "    command = f\"minimap2 -t 10 -ax sr {reference} trimmed/{fastq_file} | samtools view -bS - > {target}\"\n",
    "    print(command)\n",
    "    os.system(command)"
   ]
  },
  {
   "cell_type": "code",
   "execution_count": 52,
   "metadata": {},
   "outputs": [
    {
     "name": "stdout",
     "output_type": "stream",
     "text": [
      "samtools sort bam/DRR093148.fastq.bam > bam/DRR093148.fastq.sorted.bam\n",
      "samtools index bam/DRR093148.fastq.sorted.bam\n",
      "samtools sort bam/DRR093148.fastq.sorted.bam > bam/DRR093148.fastq.sorted.sorted.bam\n",
      "samtools index bam/DRR093148.fastq.sorted.sorted.bam\n",
      "samtools sort bam/ERR2031146.fastq.bam > bam/ERR2031146.fastq.sorted.bam\n",
      "samtools index bam/ERR2031146.fastq.sorted.bam\n",
      "samtools sort bam/ERR2031146.fastq.sorted.bam > bam/ERR2031146.fastq.sorted.sorted.bam\n",
      "samtools index bam/ERR2031146.fastq.sorted.sorted.bam\n",
      "samtools sort bam/ERR3224171.bam > bam/ERR3224171.sorted.bam\n",
      "samtools index bam/ERR3224171.sorted.bam\n",
      "samtools sort bam/ERR3224171.sorted.bam > bam/ERR3224171.sorted.sorted.bam\n",
      "samtools index bam/ERR3224171.sorted.sorted.bam\n",
      "samtools sort bam/ERR3601708.bam > bam/ERR3601708.sorted.bam\n",
      "samtools index bam/ERR3601708.sorted.bam\n",
      "samtools sort bam/ERR3601708.sorted.bam > bam/ERR3601708.sorted.sorted.bam\n",
      "samtools index bam/ERR3601708.sorted.sorted.bam\n",
      "samtools sort bam/ERR3793839.fastq.bam > bam/ERR3793839.fastq.sorted.bam\n",
      "samtools index bam/ERR3793839.fastq.sorted.bam\n",
      "samtools sort bam/ERR3793839.fastq.sorted.bam > bam/ERR3793839.fastq.sorted.sorted.bam\n",
      "samtools index bam/ERR3793839.fastq.sorted.sorted.bam\n",
      "samtools sort bam/ERR4324960.bam > bam/ERR4324960.sorted.bam\n",
      "samtools index bam/ERR4324960.sorted.bam\n",
      "samtools sort bam/ERR4324960.sorted.bam > bam/ERR4324960.sorted.sorted.bam\n",
      "samtools index bam/ERR4324960.sorted.sorted.bam\n",
      "samtools sort bam/ERR4325088.bam > bam/ERR4325088.sorted.bam\n",
      "samtools index bam/ERR4325088.sorted.bam\n",
      "samtools sort bam/ERR4325088.sorted.bam > bam/ERR4325088.sorted.sorted.bam\n",
      "samtools index bam/ERR4325088.sorted.sorted.bam\n",
      "samtools sort bam/SRR10190436.bam > bam/SRR10190436.sorted.bam\n",
      "samtools index bam/SRR10190436.sorted.bam\n",
      "samtools sort bam/SRR10190436.sorted.bam > bam/SRR10190436.sorted.sorted.bam\n",
      "samtools index bam/SRR10190436.sorted.sorted.bam\n",
      "samtools sort bam/SRR10726961.bam > bam/SRR10726961.sorted.bam\n",
      "samtools index bam/SRR10726961.sorted.bam\n",
      "samtools sort bam/SRR10726961.sorted.bam > bam/SRR10726961.sorted.sorted.bam\n",
      "samtools index bam/SRR10726961.sorted.sorted.bam\n",
      "samtools sort bam/SRR10737212.fastq.bam > bam/SRR10737212.fastq.sorted.bam\n",
      "samtools index bam/SRR10737212.fastq.sorted.bam\n",
      "samtools sort bam/SRR10737212.fastq.sorted.bam > bam/SRR10737212.fastq.sorted.sorted.bam\n",
      "samtools index bam/SRR10737212.fastq.sorted.sorted.bam\n",
      "samtools sort bam/SRR10740518.bam > bam/SRR10740518.sorted.bam\n",
      "samtools index bam/SRR10740518.sorted.bam\n",
      "samtools sort bam/SRR10740518.sorted.bam > bam/SRR10740518.sorted.sorted.bam\n",
      "samtools index bam/SRR10740518.sorted.sorted.bam\n",
      "samtools sort bam/SRR10788409.bam > bam/SRR10788409.sorted.bam\n",
      "samtools index bam/SRR10788409.sorted.bam\n",
      "samtools sort bam/SRR10788409.sorted.bam > bam/SRR10788409.sorted.sorted.bam\n",
      "samtools index bam/SRR10788409.sorted.sorted.bam\n",
      "samtools sort bam/SRR10789209.bam > bam/SRR10789209.sorted.bam\n",
      "samtools index bam/SRR10789209.sorted.bam\n",
      "samtools sort bam/SRR10789209.sorted.bam > bam/SRR10789209.sorted.sorted.bam\n",
      "samtools index bam/SRR10789209.sorted.sorted.bam\n",
      "samtools sort bam/SRR10793461.bam > bam/SRR10793461.sorted.bam\n",
      "samtools index bam/SRR10793461.sorted.bam\n",
      "samtools sort bam/SRR10793461.sorted.bam > bam/SRR10793461.sorted.sorted.bam\n",
      "samtools index bam/SRR10793461.sorted.sorted.bam\n",
      "samtools sort bam/SRR10793571.bam > bam/SRR10793571.sorted.bam\n",
      "samtools index bam/SRR10793571.sorted.bam\n",
      "samtools sort bam/SRR10793571.sorted.bam > bam/SRR10793571.sorted.sorted.bam\n",
      "samtools index bam/SRR10793571.sorted.sorted.bam\n",
      "samtools sort bam/SRR10795436.bam > bam/SRR10795436.sorted.bam\n",
      "samtools index bam/SRR10795436.sorted.bam\n",
      "samtools sort bam/SRR10795436.sorted.bam > bam/SRR10795436.sorted.sorted.bam\n",
      "samtools index bam/SRR10795436.sorted.sorted.bam\n",
      "samtools sort bam/SRR10868344.fastq.bam > bam/SRR10868344.fastq.sorted.bam\n",
      "samtools index bam/SRR10868344.fastq.sorted.bam\n",
      "samtools sort bam/SRR10868344.fastq.sorted.bam > bam/SRR10868344.fastq.sorted.sorted.bam\n",
      "samtools index bam/SRR10868344.fastq.sorted.sorted.bam\n",
      "samtools sort bam/SRR10962787.bam > bam/SRR10962787.sorted.bam\n",
      "samtools index bam/SRR10962787.sorted.bam\n",
      "samtools sort bam/SRR10962787.sorted.bam > bam/SRR10962787.sorted.sorted.bam\n",
      "samtools index bam/SRR10962787.sorted.sorted.bam\n",
      "samtools sort bam/SRR11210910.bam > bam/SRR11210910.sorted.bam\n",
      "samtools index bam/SRR11210910.sorted.bam\n",
      "samtools sort bam/SRR11210910.sorted.bam > bam/SRR11210910.sorted.sorted.bam\n",
      "samtools index bam/SRR11210910.sorted.sorted.bam\n",
      "samtools sort bam/SRR11230682.bam > bam/SRR11230682.sorted.bam\n",
      "samtools index bam/SRR11230682.sorted.bam\n",
      "samtools sort bam/SRR11230682.sorted.bam > bam/SRR11230682.sorted.sorted.bam\n",
      "samtools index bam/SRR11230682.sorted.sorted.bam\n",
      "samtools sort bam/SRR11302877.fastq.bam > bam/SRR11302877.fastq.sorted.bam\n",
      "samtools index bam/SRR11302877.fastq.sorted.bam\n",
      "samtools sort bam/SRR11302877.fastq.sorted.bam > bam/SRR11302877.fastq.sorted.sorted.bam\n",
      "samtools index bam/SRR11302877.fastq.sorted.sorted.bam\n",
      "samtools sort bam/SRR11302903.fastq.bam > bam/SRR11302903.fastq.sorted.bam\n",
      "samtools index bam/SRR11302903.fastq.sorted.bam\n",
      "samtools sort bam/SRR11302903.fastq.sorted.bam > bam/SRR11302903.fastq.sorted.sorted.bam\n",
      "samtools index bam/SRR11302903.fastq.sorted.sorted.bam\n",
      "samtools sort bam/SRR9160051.bam > bam/SRR9160051.sorted.bam\n",
      "samtools index bam/SRR9160051.sorted.bam\n",
      "samtools sort bam/SRR9160051.sorted.bam > bam/SRR9160051.sorted.sorted.bam\n",
      "samtools index bam/SRR9160051.sorted.sorted.bam\n",
      "samtools sort bam/SRR9731045.bam > bam/SRR9731045.sorted.bam\n",
      "samtools index bam/SRR9731045.sorted.bam\n",
      "samtools sort bam/SRR9731045.fastq.bam > bam/SRR9731045.fastq.sorted.bam\n",
      "samtools index bam/SRR9731045.fastq.sorted.bam\n",
      "samtools sort bam/SRR9731045.fastq.sorted.bam > bam/SRR9731045.fastq.sorted.sorted.bam\n",
      "samtools index bam/SRR9731045.fastq.sorted.sorted.bam\n",
      "samtools sort bam/SRR9731045.sorted.bam > bam/SRR9731045.sorted.sorted.bam\n",
      "samtools index bam/SRR9731045.sorted.sorted.bam\n"
     ]
    }
   ],
   "source": [
    "# for each bam file, sort and index\n",
    "for bam_file in os.listdir(\"bam\"):\n",
    "    if bam_file.endswith(\".bam\"):\n",
    "        command = f\"samtools sort bam/{bam_file} > bam/{bam_file.replace('.bam', '.sorted.bam')}\"\n",
    "        print(command)\n",
    "        os.system(command)\n",
    "        command = f\"samtools index bam/{bam_file.replace('.bam', '.sorted.bam')}\"\n",
    "        print(command)\n",
    "        os.system(command)"
   ]
  },
  {
   "cell_type": "code",
   "execution_count": 44,
   "metadata": {},
   "outputs": [
    {
     "name": "stdout",
     "output_type": "stream",
     "text": [
      "samtools depth -r 20000-25000 bam/DRR093148.fastq.sorted.bam > coverage/DRR093148.fastq.coverage\n",
      "samtools depth -r 20000-25000 bam/ERR2031146.fastq.sorted.bam > coverage/ERR2031146.fastq.coverage\n",
      "samtools depth -r 20000-25000 bam/ERR3224171.sorted.bam > coverage/ERR3224171.coverage\n",
      "samtools depth -r 20000-25000 bam/ERR3601708.sorted.bam > coverage/ERR3601708.coverage\n",
      "samtools depth -r 20000-25000 bam/ERR3793839.fastq.sorted.bam > coverage/ERR3793839.fastq.coverage\n",
      "samtools depth -r 20000-25000 bam/ERR4324960.sorted.bam > coverage/ERR4324960.coverage\n",
      "samtools depth -r 20000-25000 bam/ERR4325088.sorted.bam > coverage/ERR4325088.coverage\n",
      "samtools depth -r 20000-25000 bam/SRR10190436.sorted.bam > coverage/SRR10190436.coverage\n",
      "samtools depth -r 20000-25000 bam/SRR10726961.sorted.bam > coverage/SRR10726961.coverage\n",
      "samtools depth -r 20000-25000 bam/SRR10737212.fastq.sorted.bam > coverage/SRR10737212.fastq.coverage\n",
      "samtools depth -r 20000-25000 bam/SRR10740518.sorted.bam > coverage/SRR10740518.coverage\n",
      "samtools depth -r 20000-25000 bam/SRR10788409.sorted.bam > coverage/SRR10788409.coverage\n",
      "samtools depth -r 20000-25000 bam/SRR10789209.sorted.bam > coverage/SRR10789209.coverage\n",
      "samtools depth -r 20000-25000 bam/SRR10793461.sorted.bam > coverage/SRR10793461.coverage\n",
      "samtools depth -r 20000-25000 bam/SRR10793571.sorted.bam > coverage/SRR10793571.coverage\n",
      "samtools depth -r 20000-25000 bam/SRR10795436.sorted.bam > coverage/SRR10795436.coverage\n",
      "samtools depth -r 20000-25000 bam/SRR10868344.fastq.sorted.bam > coverage/SRR10868344.fastq.coverage\n",
      "samtools depth -r 20000-25000 bam/SRR10962787.sorted.bam > coverage/SRR10962787.coverage\n",
      "samtools depth -r 20000-25000 bam/SRR11210910.sorted.bam > coverage/SRR11210910.coverage\n",
      "samtools depth -r 20000-25000 bam/SRR11230682.sorted.bam > coverage/SRR11230682.coverage\n",
      "samtools depth -r 20000-25000 bam/SRR11302877.fastq.sorted.bam > coverage/SRR11302877.fastq.coverage\n",
      "samtools depth -r 20000-25000 bam/SRR11302903.fastq.sorted.bam > coverage/SRR11302903.fastq.coverage\n",
      "samtools depth -r 20000-25000 bam/SRR9160051.sorted.bam > coverage/SRR9160051.coverage\n",
      "samtools depth -r 20000-25000 bam/SRR9731045.fastq.sorted.bam > coverage/SRR9731045.fastq.coverage\n",
      "samtools depth -r 20000-25000 bam/SRR9731045.sorted.bam > coverage/SRR9731045.coverage\n"
     ]
    }
   ],
   "source": [
    "# get coverage per base for each bam file\n",
    "for bam_file in os.listdir(\"bam\"):\n",
    "    if bam_file.endswith(\".sorted.bam\"):\n",
    "        start = 20000\n",
    "        end = 25000\n",
    "        command = f\"samtools depth -r {start}-{end} bam/{bam_file} > coverage/{bam_file.replace('.sorted.bam', '.coverage')}\"\n",
    "        print(command)\n",
    "        os.system(command)\n",
    "        "
   ]
  }
 ],
 "metadata": {
  "kernelspec": {
   "display_name": "nextstrain",
   "language": "python",
   "name": "nextstrain"
  },
  "language_info": {
   "codemirror_mode": {
    "name": "ipython",
    "version": 3
   },
   "file_extension": ".py",
   "mimetype": "text/x-python",
   "name": "python",
   "nbconvert_exporter": "python",
   "pygments_lexer": "ipython3",
   "version": "3.8.6"
  },
  "orig_nbformat": 4
 },
 "nbformat": 4,
 "nbformat_minor": 2
}
